{
 "cells": [
  {
   "cell_type": "code",
   "execution_count": 1,
   "metadata": {},
   "outputs": [],
   "source": [
    "import cv2\n",
    "import os"
   ]
  },
  {
   "cell_type": "code",
   "execution_count": 3,
   "metadata": {},
   "outputs": [
    {
     "name": "stdout",
     "output_type": "stream",
     "text": [
      "Enter id and press enter1\n"
     ]
    }
   ],
   "source": [
    "face_cascade = cv2.CascadeClassifier('C:\\\\Users\\\\snsha\\\\Desktop\\\\openCV\\\\Face Haarcascade Classifier.xml')\n",
    "cap = cv2.VideoCapture(0)\n",
    "face_id = input(\"Enter id and press enter\")\n",
    "count = 0\n",
    "while True:\n",
    "   \n",
    "    check, frame = cap.read()\n",
    "    gray = cv2.cvtColor(frame,cv2.COLOR_BGR2GRAY)\n",
    "    faces = face_cascade.detectMultiScale(gray,1.3,5)\n",
    "    for (x,y,w,h) in faces:\n",
    "        cv2.rectangle(frame, (x,y), (x+w,y+h),(0,255,0),2)\n",
    "        count += 1\n",
    "        cv2.imwrite\n",
    "        cv2.imshow(\"capture\",frame)\n",
    "    key = cv2.waitKey(100) & 0xff\n",
    "    if key == ord('q'):\n",
    "        break\n",
    "    elif count >= 80:\n",
    "        break\n",
    "cap.release()\n",
    "cv2.destroyAllWindows()\n",
    "        \n",
    "         \n",
    "        "
   ]
  },
  {
   "cell_type": "code",
   "execution_count": null,
   "metadata": {},
   "outputs": [],
   "source": []
  }
 ],
 "metadata": {
  "kernelspec": {
   "display_name": "Python 3",
   "language": "python",
   "name": "python3"
  },
  "language_info": {
   "codemirror_mode": {
    "name": "ipython",
    "version": 3
   },
   "file_extension": ".py",
   "mimetype": "text/x-python",
   "name": "python",
   "nbconvert_exporter": "python",
   "pygments_lexer": "ipython3",
   "version": "3.7.7"
  }
 },
 "nbformat": 4,
 "nbformat_minor": 4
}
